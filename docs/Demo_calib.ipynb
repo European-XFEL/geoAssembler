{
 "cells": [
  {
   "cell_type": "markdown",
   "metadata": {},
   "source": [
    "# Diffraction Ring Based Detector Geometry Calibration\n",
    "\n",
    "This notebook serves demonstrates how to use ipython based widgets to create a starting geometry from Power Based ring diffraction pattern."
   ]
  },
  {
   "cell_type": "code",
   "execution_count": null,
   "metadata": {},
   "outputs": [],
   "source": [
    "%matplotlib notebook\n",
    "#This important for interactive plots \n",
    "import os\n",
    "import warnings\n",
    "import sys\n",
    "\n",
    "from matplotlib import pyplot as plt\n",
    "import matplotlib.patches as patches\n",
    "\n",
    "parent = os.path.dirname(os.path.abspath(os.path.dirname('.')))\n",
    "sys.path.insert(0, parent)\n",
    "warnings.filterwarnings('ignore')\n",
    "import numpy as np\n",
    "\n",
    "import karabo_data as kd\n",
    "from geoAssembler import CalibrateNb as Calibrate\n",
    "from geoAssembler.geometry import AGIPDGeometry, LPDGeometry"
   ]
  },
  {
   "cell_type": "markdown",
   "metadata": {},
   "source": [
    "# Goemetry using AGIPD Data"
   ]
  },
  {
   "cell_type": "markdown",
   "metadata": {},
   "source": [
    "\n",
    "## Get a run dataset with ring pattern\n",
    "\n",
    "The example *instrument* has a some runs with interesting data. Run 005 contains data with diffraction patterns from Lithium Titanium. First open this run with karabo-data and read the data\n"
   ]
  },
  {
   "cell_type": "code",
   "execution_count": null,
   "metadata": {},
   "outputs": [],
   "source": [
    "run_dir = '/gpfs/exfel/exp/XMPL/201750/p700000/proc/r0005'\n",
    "run = kd.RunDirectory(run_dir)\n",
    "run.info()"
   ]
  },
  {
   "cell_type": "markdown",
   "metadata": {},
   "source": [
    "## Define some parameters:\n",
    "Detector distance to the sample, Beam wave length are certainly helpful variables that should be defined in the geometry file. Let's define those parameters:"
   ]
  },
  {
   "cell_type": "code",
   "execution_count": null,
   "metadata": {},
   "outputs": [],
   "source": [
    "clen = 0.119 #Detector distance in m\n",
    "energy = 10235 #Photon energy in eV I believe"
   ]
  },
  {
   "cell_type": "code",
   "execution_count": null,
   "metadata": {},
   "outputs": [],
   "source": [
    "#Now construct the header of the geometry file from those properties\n",
    "header = \"\"\"data = /entry_1/data_1/data\n",
    ";mask = /entry_1/data_1/mask\n",
    "\n",
    "mask_good = 0x0\n",
    "mask_bad = 0xffff\n",
    "\n",
    "adu_per_eV = 0.0075  ; no idea\n",
    "clen = {}  ; Camera length, aka detector distance\n",
    "photon_energy = {} ;\"\"\".format(clen, energy)"
   ]
  },
  {
   "cell_type": "markdown",
   "metadata": {},
   "source": [
    "## Read the train data"
   ]
  },
  {
   "cell_type": "code",
   "execution_count": null,
   "metadata": {},
   "outputs": [],
   "source": [
    "tId, train_data = run.train_from_index(3)\n",
    "tId"
   ]
  },
  {
   "cell_type": "markdown",
   "metadata": {},
   "source": [
    "Use the ```stack_detector_data``` to create a big with all pulses for the selected train data. "
   ]
  },
  {
   "cell_type": "code",
   "execution_count": null,
   "metadata": {},
   "outputs": [],
   "source": [
    "train_array = kd.stack_detector_data(train_data, 'image.data', only='DET')\n",
    "train_array.shape"
   ]
  },
  {
   "cell_type": "markdown",
   "metadata": {},
   "source": [
    "Let's apply the ```sum``` function over a train rather than selecting single pulses. This can help to get a clearer signal, if necessary."
   ]
  },
  {
   "cell_type": "code",
   "execution_count": null,
   "metadata": {},
   "outputs": [],
   "source": [
    "data_array = np.sum(np.clip(train_array, 0, 2000), axis=0)\n",
    "data_array.shape"
   ]
  },
  {
   "cell_type": "markdown",
   "metadata": {},
   "source": [
    "### Start the geometry calibration without prior geometry knowledge\n",
    "First lets assume that we have no prior knowledge about the detector geometry. We naively just assume that all modules equally spaced with 29px distance to each other."
   ]
  },
  {
   "cell_type": "code",
   "execution_count": null,
   "metadata": {
    "scrolled": false
   },
   "outputs": [],
   "source": [
    "from geoAssembler import CalibrateNb as Calibrate\n",
    "from geoAssembler import CalibrateNb as Calibrate\n",
    "from geoAssembler.geometry import AGIPDGeometry, LPDGeometry\n",
    "Calib =  Calibrate(data_array, geometry=None, vmin=0, vmax=1e5, figsize=(8,8), det='AGIPD')"
   ]
  },
  {
   "cell_type": "markdown",
   "metadata": {},
   "source": [
    "Helper circles that guide the quadrant movement can be added by pushing the *Add circle* button. There can be multiple at a time. If there are different circles present, individual circles can be selected using the *Sel.* drop down menu. The radius can be adjusted with help of the *Radius* menu.\n",
    "\n",
    "The quadrants can be moved by selecting a Quadrant from the *Quadrant* menu. The selected quadrant can be moved horizontally and vertically via the *Horizontal* and *Vertical* spin boxes."
   ]
  },
  {
   "cell_type": "markdown",
   "metadata": {},
   "source": [
    "The centre of the geometry can be retrieved with the ```centre``` attribute:"
   ]
  },
  {
   "cell_type": "code",
   "execution_count": null,
   "metadata": {},
   "outputs": [],
   "source": [
    "Calib.centre"
   ]
  },
  {
   "cell_type": "markdown",
   "metadata": {},
   "source": [
    "Finally the geometry can be saved by calling ```C.geom.write_geom```. This method gets the output filename and the 'header' that contains information about detector distance and photon energy."
   ]
  },
  {
   "cell_type": "code",
   "execution_count": null,
   "metadata": {},
   "outputs": [],
   "source": [
    "Calib.geom.write_geom('testing.geom', header)"
   ]
  },
  {
   "cell_type": "markdown",
   "metadata": {},
   "source": [
    "The new geometry file could also be loaded for another round of refinement:"
   ]
  },
  {
   "cell_type": "code",
   "execution_count": null,
   "metadata": {},
   "outputs": [],
   "source": [
    "C_new =  Calibrate(data_array, geometry=Calib.geom, vmin=0, vmax=1e5, figsize=(8,8), det='AGIPD')"
   ]
  },
  {
   "cell_type": "markdown",
   "metadata": {},
   "source": [
    "# Goemetry using LPD Data"
   ]
  },
  {
   "cell_type": "markdown",
   "metadata": {},
   "source": [
    "Geometry description for LPD data is not saved in *CFEL* format but the inhouse EuXFEL format. The EuXFEL format requires quadrant positions. "
   ]
  },
  {
   "cell_type": "markdown",
   "metadata": {},
   "source": [
    "## Get a run dataset with ring pattern\n",
    "\n",
    "The example *instrument* has a some runs with interesting data. Run 007 contains data with diffraction patterns from Lithium Titanium. First open this run with karabo-data and read the data\n"
   ]
  },
  {
   "cell_type": "code",
   "execution_count": null,
   "metadata": {},
   "outputs": [],
   "source": [
    "run_dir = '/gpfs/exfel/exp/XMPL/201750/p700000/proc/r0007'\n",
    "run = kd.RunDirectory(run_dir)\n",
    "run.info()"
   ]
  },
  {
   "cell_type": "markdown",
   "metadata": {},
   "source": [
    "## Read the train data"
   ]
  },
  {
   "cell_type": "code",
   "execution_count": null,
   "metadata": {},
   "outputs": [],
   "source": [
    "tId, train_data = run.train_from_index(3)\n",
    "tId"
   ]
  },
  {
   "cell_type": "markdown",
   "metadata": {},
   "source": [
    "Use the ```stack_detector_data``` to create a big with all pulses for the selected train data. "
   ]
  },
  {
   "cell_type": "code",
   "execution_count": null,
   "metadata": {},
   "outputs": [],
   "source": [
    "train_array = kd.stack_detector_data(train_data, 'image.data', only='DET')\n",
    "train_array.shape"
   ]
  },
  {
   "cell_type": "markdown",
   "metadata": {},
   "source": [
    "Let's apply the ```sum``` function over a train rather than selecting single pulses. This can help to get a clearer signal, if necessary."
   ]
  },
  {
   "cell_type": "code",
   "execution_count": null,
   "metadata": {},
   "outputs": [],
   "source": [
    "data_array = np.sum(np.clip(train_array, 0, 2000), axis=0)\n",
    "data_array.shape"
   ]
  },
  {
   "cell_type": "markdown",
   "metadata": {},
   "source": [
    "### Start the geometry calibration without prior geometry knowledge\n",
    "From a users perspective the EuXFEL format is a little more complicated. Quadrant positions and a geometry file descrbing in positioning of the tails within the quadrants is needed. Like in the AGIPD case no geometry information can be passed to the calibration. In this case a pixel gap of 4 pixels per module and asic is assumed. \n",
    "\n",
    "Yet it is recommended to at least read a geometry file and use the fallback quadrant positions:"
   ]
  },
  {
   "cell_type": "markdown",
   "metadata": {},
   "source": [
    "### Create a geometry object from an existing EuXFEL geometry file without prior know ledge of quad positions\n",
    "\n",
    "Let's use the geometry file that comes with the documentation of karabo_data"
   ]
  },
  {
   "cell_type": "code",
   "execution_count": null,
   "metadata": {},
   "outputs": [],
   "source": [
    "parent = os.path.dirname(os.path.dirname(kd.__file__))\n",
    "geom_file = os.path.join(parent, 'docs', 'lpd_mar_18_axesfixed.h5')\n",
    "geom = LPDGeometry.load(geom_file=geom_file, quad_pos=None)\n",
    "Calib =  Calibrate(data_array, geometry=geom, vmin=0, vmax=100000, figsize=(8,8), det='LPD')"
   ]
  },
  {
   "cell_type": "markdown",
   "metadata": {},
   "source": [
    "### Read the quadrant positions\n",
    "Unlinke for CFEL geometry only the quadrant positions are of relevance they can be retreived using the \n",
    "```get_quad_pos``` method of the ```Calib.geom``` object."
   ]
  },
  {
   "cell_type": "code",
   "execution_count": null,
   "metadata": {},
   "outputs": [],
   "source": [
    "Calib.geom.quad_pos"
   ]
  },
  {
   "cell_type": "markdown",
   "metadata": {},
   "source": [
    "The new geometry file could also be loaded for another round of refinement:"
   ]
  },
  {
   "cell_type": "code",
   "execution_count": null,
   "metadata": {},
   "outputs": [],
   "source": [
    "Calib_New =  Calibrate(data_array, geometry=Calib.geom, vmin=0, vmax=100000, figsize=(8,8), det='LPD')"
   ]
  }
 ],
 "metadata": {
  "kernelspec": {
   "display_name": "xfel-beta",
   "language": "python",
   "name": "xfel-beta"
  },
  "language_info": {
   "codemirror_mode": {
    "name": "ipython",
    "version": 3
   },
   "file_extension": ".py",
   "mimetype": "text/x-python",
   "name": "python",
   "nbconvert_exporter": "python",
   "pygments_lexer": "ipython3",
   "version": "3.7.1"
  }
 },
 "nbformat": 4,
 "nbformat_minor": 2
}
